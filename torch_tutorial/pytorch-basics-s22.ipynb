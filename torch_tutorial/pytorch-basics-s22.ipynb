{
 "cells": [
  {
   "cell_type": "markdown",
   "id": "structured-aaron",
   "metadata": {},
   "source": [
    "covers various pytorch basics; intended for interactive use.\n",
    "--matus\n"
   ]
  },
  {
   "cell_type": "markdown",
   "id": "eastern-visitor",
   "metadata": {},
   "source": [
    "# tensor operations"
   ]
  },
  {
   "cell_type": "code",
   "execution_count": 1,
   "id": "active-personal",
   "metadata": {},
   "outputs": [
    {
     "data": {
      "text/plain": [
       "<torch._C.Generator at 0x7fec68e0be50>"
      ]
     },
     "execution_count": 1,
     "metadata": {},
     "output_type": "execute_result"
    }
   ],
   "source": [
    "import torch\n",
    "# torch has its own PRNG seeds.\n",
    "# setting it here so notebook is deterministic.\n",
    "torch.manual_seed(0)"
   ]
  },
  {
   "cell_type": "code",
   "execution_count": 6,
   "id": "f847dc6b",
   "metadata": {},
   "outputs": [],
   "source": [
    "import torch\n",
    "from torchvision.models import resnet18\n",
    "\n",
    "model = resnet18(pretrained=True)\n",
    "data = torch.rand(1,3,64,64)\n",
    "labels = torch.rand(1,1000)\n",
    "\n"
   ]
  },
  {
   "cell_type": "code",
   "execution_count": 16,
   "id": "226bfad6",
   "metadata": {},
   "outputs": [
    {
     "name": "stdout",
     "output_type": "stream",
     "text": [
      "tensor(32.8551, grad_fn=<SumBackward0>)\n"
     ]
    }
   ],
   "source": [
    "prediction = model(data)\n",
    "loss = (prediction-labels).norm().sum()\n",
    "print(loss)\n",
    "loss.backward()\n"
   ]
  },
  {
   "cell_type": "code",
   "execution_count": 21,
   "id": "bcd8ba30",
   "metadata": {},
   "outputs": [],
   "source": [
    "optim = torch.optim.Adam(model.parameters(), lr=1e-2)\n",
    "optim.step()\n"
   ]
  },
  {
   "cell_type": "code",
   "execution_count": 32,
   "id": "d7097945",
   "metadata": {},
   "outputs": [
    {
     "name": "stdout",
     "output_type": "stream",
     "text": [
      "tensor([188., 623.], grad_fn=<SubBackward0>)\n",
      "tensor([1., 1.])\n",
      "tensor([144., 324.])\n",
      "tensor([ -4., -10.])\n"
     ]
    }
   ],
   "source": [
    "a = torch.tensor([4., 6.], requires_grad=True)\n",
    "b = torch.tensor([2., 5.], requires_grad=True)\n",
    "Q = 3*a**3-b**2\n",
    "print(Q)\n",
    "external_grad = torch.tensor([1., 1.])\n",
    "Q.backward(external_grad)\n",
    "print(external_grad)\n",
    "\n",
    "print(a.grad)\n",
    "print(b.grad)"
   ]
  },
  {
   "cell_type": "code",
   "execution_count": 4,
   "id": "decimal-surgeon",
   "metadata": {},
   "outputs": [
    {
     "data": {
      "text/plain": [
       "tensor([0, 1, 2, 3, 4, 5, 6])"
      ]
     },
     "execution_count": 4,
     "metadata": {},
     "output_type": "execute_result"
    }
   ],
   "source": [
    "# create a non-inclusive range.\n",
    "torch.arange(8)\n",
    "torch.arange(7)"
   ]
  },
  {
   "cell_type": "code",
   "execution_count": 9,
   "id": "radio-prison",
   "metadata": {},
   "outputs": [
    {
     "data": {
      "text/plain": [
       "tensor([1., 2., 3.], dtype=torch.float64)"
      ]
     },
     "execution_count": 9,
     "metadata": {},
     "output_type": "execute_result"
    }
   ],
   "source": [
    "# ..just like a regular python non-inclusive range\n",
    "torch.tensor(range(8))\n",
    "torch.tensor([1,2,3], dtype=torch.float64)"
   ]
  },
  {
   "cell_type": "code",
   "execution_count": 15,
   "id": "lightweight-reservation",
   "metadata": {},
   "outputs": [],
   "source": [
    "# a similar routine, subdividing an interval equally\n",
    "torch.linspace(0, 1, 5)\n",
    "torch.linspace(9, 1, 10)\n",
    "a = torch.tensor([1, 2])"
   ]
  },
  {
   "cell_type": "code",
   "execution_count": 20,
   "id": "regulation-cattle",
   "metadata": {},
   "outputs": [
    {
     "data": {
      "text/plain": [
       "tensor([0.0000, 0.2500, 0.5000, 0.7500, 1.0000])"
      ]
     },
     "execution_count": 20,
     "metadata": {},
     "output_type": "execute_result"
    }
   ],
   "source": [
    "# standard arithmetic operations act coordinate-wise\n",
    "xs = torch.linspace(0, 1, 5)\n",
    "xs"
   ]
  },
  {
   "cell_type": "code",
   "execution_count": 23,
   "id": "6c1e18a2",
   "metadata": {},
   "outputs": [
    {
     "name": "stdout",
     "output_type": "stream",
     "text": [
      "1 tensor([0.0000, 0.0625, 0.2500, 0.5625, 1.0000])\n",
      "2 tensor([0.0000, 0.0625, 0.2500, 0.5625, 1.0000])\n",
      "3 tensor([True, True, True, True, True])\n",
      "4 tensor([   -inf, -0.3863,  0.3069,  0.7123,  1.0000])\n"
     ]
    }
   ],
   "source": [
    "print(1, xs ** 2) # coordinate-wise squaring\n",
    "print(2, xs * xs) # coordinate-wise multiplication\n",
    "print(3, (xs ** 2 - xs * xs) < 1e-16) # compare the above,\n",
    "print(4, (2.7182818 * xs).log()) # coordinate-wise multiplication and ln"
   ]
  },
  {
   "cell_type": "code",
   "execution_count": 30,
   "id": "a566be2b",
   "metadata": {},
   "outputs": [],
   "source": [
    "a = torch.tensor(1)"
   ]
  },
  {
   "cell_type": "code",
   "execution_count": 31,
   "id": "proof-notification",
   "metadata": {},
   "outputs": [
    {
     "name": "stdout",
     "output_type": "stream",
     "text": [
      "1 torch.float32\n",
      "2 torch.int64\n",
      "3 torch.float32\n",
      "4 torch.int64\n",
      "5 torch.bool\n"
     ]
    }
   ],
   "source": [
    "# pytorch tensors aren't just floating point\n",
    "print(1, torch.linspace(0,1,5).dtype)\n",
    "print(2, torch.arange(5).dtype)\n",
    "print(3, (torch.arange(5) / 10).dtype)\n",
    "print(4, (torch.arange(5) // 10).dtype)\n",
    "print(5, (torch.arange(5) == 0).dtype)"
   ]
  },
  {
   "cell_type": "code",
   "execution_count": 32,
   "id": "rolled-berkeley",
   "metadata": {},
   "outputs": [
    {
     "name": "stdout",
     "output_type": "stream",
     "text": [
      "1 tensor([ 0,  1,  4,  9, 16])\n",
      "2 tensor([ 0.,  1.,  4.,  9., 16.])\n",
      "3 tensor([0., 2., 4., 6., 8.])\n",
      "4 tensor([False, False, False,  True,  True])\n",
      "5 tensor([2, 2, 2, 3, 3])\n"
     ]
    }
   ],
   "source": [
    "# arithmetic operations generally convert between types\n",
    "print(1, torch.arange(5) * torch.arange(5))\n",
    "print(2, torch.arange(5) * (torch.arange(5) / 1))\n",
    "print(3, torch.arange(5) + (torch.arange(5) / 1))\n",
    "print(4, (torch.arange(5) >= 3))\n",
    "print(5, 2 + (torch.arange(5)>=3) )"
   ]
  },
  {
   "cell_type": "code",
   "execution_count": 47,
   "id": "french-protocol",
   "metadata": {},
   "outputs": [
    {
     "name": "stdout",
     "output_type": "stream",
     "text": [
      "1 tensor([ 1.0000,  2.7183,  7.3891, 20.0855, 54.5981])\n",
      "2 tensor([ 1.0000,  2.7183,  7.3891, 20.0855, 54.5981])\n"
     ]
    }
   ],
   "source": [
    "# Not all types support all operations\n",
    "try:\n",
    "    #following does manual type conversion\n",
    "    print(1, torch.arange(5).type(torch.float32).exp())\n",
    "    print(2, torch.arange(5).exp()) #wow this has changed over time!\n",
    "except RuntimeError as E:\n",
    "    print(f\"Got exception: '{E}'\")"
   ]
  },
  {
   "cell_type": "code",
   "execution_count": 50,
   "id": "3f1b128f",
   "metadata": {},
   "outputs": [
    {
     "data": {
      "text/plain": [
       "tensor([ 2.7183,  7.3891, 20.0855])"
      ]
     },
     "execution_count": 50,
     "metadata": {},
     "output_type": "execute_result"
    }
   ],
   "source": [
    "ten = torch.tensor([1, 2, 3])\n",
    "ten.exp()"
   ]
  },
  {
   "cell_type": "code",
   "execution_count": 58,
   "id": "associate-jurisdiction",
   "metadata": {},
   "outputs": [
    {
     "name": "stdout",
     "output_type": "stream",
     "text": [
      "1 tensor([ 0,  1,  2,  3,  4,  5,  6,  7,  8,  9, 10, 11])\n",
      "2 tensor([[ 0,  1],\n",
      "        [ 2,  3],\n",
      "        [ 4,  5],\n",
      "        [ 6,  7],\n",
      "        [ 8,  9],\n",
      "        [10, 11]])\n",
      "3 tensor([[ 0,  1,  2,  3],\n",
      "        [ 4,  5,  6,  7],\n",
      "        [ 8,  9, 10, 11]])\n"
     ]
    }
   ],
   "source": [
    "# Here are some basic operations on matrix shapes\n",
    "ns = torch.arange(12)\n",
    "print(1, ns)\n",
    "print(2, ns.reshape(6, -1))\n",
    "# .view() is similar to .reshape() but reuses storage;\n",
    "# we'll revisit it later.\n",
    "print(3, ns.view(3,-1))"
   ]
  },
  {
   "cell_type": "code",
   "execution_count": 59,
   "id": "absolute-europe",
   "metadata": {},
   "outputs": [
    {
     "name": "stdout",
     "output_type": "stream",
     "text": [
      "1 tensor([[[ 0,  1,  2],\n",
      "         [ 3,  4,  5]],\n",
      "\n",
      "        [[ 6,  7,  8],\n",
      "         [ 9, 10, 11]]])\n",
      "2 torch.Size([2, 2, 3])\n"
     ]
    }
   ],
   "source": [
    "# We can also reshape into 3 axes\n",
    "print(1, ns.reshape(2,2,3))\n",
    "# .reshape() and .view() also understand \"-1\" which means\n",
    "# \"choose the appropriate size so that this works out\".\n",
    "print(2, ns.reshape(-1,2,3).shape)"
   ]
  },
  {
   "cell_type": "code",
   "execution_count": 65,
   "id": "received-genetics",
   "metadata": {},
   "outputs": [
    {
     "name": "stdout",
     "output_type": "stream",
     "text": [
      "1 tensor(2.7183) torch.Size([]) tensor(1.0000) tensor(0.4108)\n",
      "2 tensor(2.7183) 2.7182817459106445\n",
      "3 2.7182818\n",
      "4 tensor([[1., 1., 1., 1.],\n",
      "        [1., 1., 1., 1.],\n",
      "        [1., 1., 1., 1.]])\n",
      "6 Got exception: 'only one element tensors can be converted to Python scalars'\n"
     ]
    }
   ],
   "source": [
    "# torch also has \"0 axis\" (or \"0 order\") tensors/\"arrays\".\n",
    "# these are convenient because they still support .exp(), etc.\n",
    "e = torch.tensor(2.7182818, dtype = torch.float32)\n",
    "print(1, e, e.shape, e.log(), e.sin())\n",
    "# method .item() extracts a python number\n",
    "print(2, e, e.item())\n",
    "# lol:\n",
    "print(3, torch.tensor(2.7182818, dtype = torch.float64).item())\n",
    "try:\n",
    "    # .item() only works on single-element tensors\n",
    "    print(4, torch.ones(3, 4))\n",
    "    print(5, torch.zeros(2).item())\n",
    "except ValueError as E:\n",
    "    print(6, f\"Got exception: '{E}'\")"
   ]
  },
  {
   "cell_type": "code",
   "execution_count": 66,
   "id": "arbitrary-custody",
   "metadata": {},
   "outputs": [
    {
     "name": "stdout",
     "output_type": "stream",
     "text": [
      "1 tensor([[ 0,  2,  4],\n",
      "        [ 6,  8, 10]])\n",
      "3 Got exception: 'The size of tensor a (3) must match the size of tensor b (2) at non-singleton dimension 1'\n"
     ]
    }
   ],
   "source": [
    "# back to larger tensors,\n",
    "# _some_ (but not all) operations complain about size mismatch.\n",
    "try:\n",
    "    vs = torch.arange(6).reshape(2,3)\n",
    "    print(1, vs + vs)\n",
    "    print(2, vs + vs.T)\n",
    "except RuntimeError as E:\n",
    "    print(3, f\"Got exception: '{E}'\")"
   ]
  },
  {
   "cell_type": "code",
   "execution_count": 80,
   "id": "czech-geology",
   "metadata": {},
   "outputs": [
    {
     "name": "stdout",
     "output_type": "stream",
     "text": [
      "0 tensor([0, 1, 2, 3])\n",
      "0.5 tensor([[0],\n",
      "        [1],\n",
      "        [2],\n",
      "        [3]])\n",
      "1 tensor([[0, 1, 2, 3],\n",
      "        [1, 2, 3, 4],\n",
      "        [2, 3, 4, 5],\n",
      "        [3, 4, 5, 6]])\n",
      "2 tensor([[[0, 1, 2, 3],\n",
      "         [1, 2, 3, 4],\n",
      "         [2, 3, 4, 5],\n",
      "         [3, 4, 5, 6]],\n",
      "\n",
      "        [[1, 2, 3, 4],\n",
      "         [2, 3, 4, 5],\n",
      "         [3, 4, 5, 6],\n",
      "         [4, 5, 6, 7]],\n",
      "\n",
      "        [[2, 3, 4, 5],\n",
      "         [3, 4, 5, 6],\n",
      "         [4, 5, 6, 7],\n",
      "         [5, 6, 7, 8]],\n",
      "\n",
      "        [[3, 4, 5, 6],\n",
      "         [4, 5, 6, 7],\n",
      "         [5, 6, 7, 8],\n",
      "         [6, 7, 8, 9]]])\n"
     ]
    }
   ],
   "source": [
    "# but some operations _do_ succeed with mismatched shapes!\n",
    "vs = torch.arange(4)\n",
    "\n",
    "print(0, vs)\n",
    "print(0.5, vs.reshape(-1, 1))\n",
    "print(1, vs.reshape(1, -1) + vs.reshape(-1, 1))\n",
    "print(2, vs.reshape(1, -1, 1) + vs.reshape(-1, 1, 1) + vs.reshape(1, 1, -1))"
   ]
  },
  {
   "cell_type": "code",
   "execution_count": 82,
   "id": "historic-teacher",
   "metadata": {},
   "outputs": [
    {
     "data": {
      "text/plain": [
       "tensor([[1., 1., 1., 1.],\n",
       "        [2., 2., 2., 2.],\n",
       "        [3., 3., 3., 3.],\n",
       "        [4., 4., 4., 4.]])"
      ]
     },
     "execution_count": 82,
     "metadata": {},
     "output_type": "execute_result"
    }
   ],
   "source": [
    "# here's a simpler instance of the same behavior:\n",
    "torch.ones(4, 4) + torch.arange(4).reshape(-1, 1)"
   ]
  },
  {
   "cell_type": "code",
   "execution_count": 94,
   "id": "chronic-october",
   "metadata": {},
   "outputs": [
    {
     "name": "stdout",
     "output_type": "stream",
     "text": [
      "tensor([[ 0.3360,  1.0043],\n",
      "        [ 1.4007, -1.7722],\n",
      "        [ 1.5152,  0.3698]])\n",
      "1 tensor([1.0590, 2.2589, 1.5597])\n",
      "tensor([[ 0.3173,  0.9483],\n",
      "        [ 0.6201, -0.7845],\n",
      "        [ 0.9715,  0.2371]])\n",
      "2 tensor([1., 1., 1.])\n"
     ]
    }
   ],
   "source": [
    "# This can be very convenient:\n",
    "# here we normalize the rows of a matrix:\n",
    "X = torch.randn(3,2)\n",
    "print(X)\n",
    "print(1, X.norm(dim = 1))\n",
    "# A few things going on here, I recommend trying this one\n",
    "# yourself and studying each piece.\n",
    "X /= X.norm(dim = 1, keepdim = True)\n",
    "print(X)\n",
    "print(2, X.norm(dim = 1))"
   ]
  },
  {
   "cell_type": "code",
   "execution_count": 95,
   "id": "acting-cloud",
   "metadata": {},
   "outputs": [
    {
     "name": "stdout",
     "output_type": "stream",
     "text": [
      "1 tensor([[ 0,  1,  2,  3,  4,  5],\n",
      "        [ 6,  7,  8,  9, 10, 11]])\n",
      "2 tensor([0, 1, 2, 3, 4, 5])\n",
      "3 tensor([0, 6])\n",
      "4 tensor([[[ 0,  1,  2],\n",
      "         [ 3,  4,  5]],\n",
      "\n",
      "        [[ 6,  7,  8],\n",
      "         [ 9, 10, 11]]])\n",
      "5 tensor([0, 1, 2])\n",
      "6 tensor([[0, 1, 2],\n",
      "        [3, 4, 5]])\n",
      "7 tensor([[0, 3],\n",
      "        [6, 9]])\n"
     ]
    }
   ],
   "source": [
    "# slicing makes it easy to access submatrices/subtensors\n",
    "ns = torch.arange(12).reshape(2,6)\n",
    "print(1, ns)\n",
    "print(2, ns[0, :]) # first row\n",
    "print(3, ns[:, 0]) # first column\n",
    "ms = ns.reshape(2,2,3)\n",
    "print(4, ms)\n",
    "print(5, ms[0,0,:])\n",
    "print(6, ms[0, ...]) # dots mean \"all remaining axes/dimensions\"\n",
    "print(7, ms[..., 0])"
   ]
  },
  {
   "cell_type": "code",
   "execution_count": 96,
   "id": "altered-entertainment",
   "metadata": {},
   "outputs": [
    {
     "name": "stdout",
     "output_type": "stream",
     "text": [
      "tensor([[ 0,  1,  2,  3,  4,  5],\n",
      "        [ 6,  7,  8,  9, 10, 11]])\n",
      "1 tensor([[ 0,  2,  4],\n",
      "        [ 6,  8, 10]])\n",
      "2 tensor([[ 0,  2,  4],\n",
      "        [ 6,  8, 10]])\n",
      "3 tensor([[0, 1],\n",
      "        [6, 7]])\n",
      "5 Got exception: 'tensors used as indices must be long, byte or bool tensors'\n"
     ]
    }
   ],
   "source": [
    "print(ns)\n",
    "# Slicing can also take integer lists as input\n",
    "print(1, ns[:, [0, 2, 4]])\n",
    "# Also boolean masks\n",
    "print(2, ns[:, [ True, False, True, False, True, False]])\n",
    "try:\n",
    "    # you can use pytorch integer arrays as well\n",
    "    print(3, ns[:, torch.arange(2)])\n",
    "    # but not float arrays\n",
    "    print(4, ns[:, torch.arange(2) / 1])\n",
    "except IndexError as E:\n",
    "    print(5, f\"Got exception: '{E}'\")"
   ]
  },
  {
   "cell_type": "code",
   "execution_count": 100,
   "id": "bronze-spokesman",
   "metadata": {},
   "outputs": [
    {
     "name": "stdout",
     "output_type": "stream",
     "text": [
      "tensor([[-1.3533, -0.2071, -0.2488, -1.2320],\n",
      "        [ 0.4264, -1.1361, -0.1292, -0.0546],\n",
      "        [ 0.4083,  1.1264,  1.9351,  1.0077],\n",
      "        [-1.5072, -0.5087, -1.2426,  1.2846],\n",
      "        [ 0.2438,  0.5304, -0.0145, -2.2357]])\n",
      "1 tensor(4.7123)\n",
      "tensor([[-2.7066, -0.4142, -0.4975, -2.4640],\n",
      "        [ 0.8527, -2.2722, -0.2585, -0.1092],\n",
      "        [ 0.8167,  2.2527,  3.8701,  2.0154],\n",
      "        [-3.0144, -1.0174, -2.4852,  2.5691],\n",
      "        [ 0.4875,  1.0607, -0.0291, -4.4714]])\n",
      "tensor([[-5.4132, -0.8284, -0.9950, -4.9280],\n",
      "        [ 1.7054, -4.5445, -0.5169, -0.2184],\n",
      "        [ 1.6334,  4.5055,  7.7402,  4.0307],\n",
      "        [-6.0288, -2.0348, -4.9704,  5.1382],\n",
      "        [ 0.9751,  2.1215, -0.0581, -8.9429]])\n",
      "2 tensor(18.8491)\n",
      "3 tensor(11.5709)\n"
     ]
    }
   ],
   "source": [
    "# many operations have in-place versions.\n",
    "# superficially this is good for efficiency reasons.\n",
    "# more importantly, pytorch does some internal book-keeping\n",
    "# with autodifferentiation which is lost if you do not do\n",
    "# in-place operations for variables you wish to compute\n",
    "# gradients with respect to.\n",
    "# (This will be clarified later.)\n",
    "# For now, here are some example in-place operations\n",
    "\n",
    "v = torch.randn(5,4)\n",
    "print(v)\n",
    "print(1, v.norm())\n",
    "v += v # in-place arithmetic operations\n",
    "print(v)\n",
    "v *= 2\n",
    "print(v)\n",
    "print(2, v.norm())\n",
    "v.clamp_(0, float('inf')) # zero out negative values, in-place\n",
    "print(3, v.norm())"
   ]
  },
  {
   "cell_type": "code",
   "execution_count": 101,
   "id": "parliamentary-czech",
   "metadata": {},
   "outputs": [
    {
     "name": "stdout",
     "output_type": "stream",
     "text": [
      "False\n",
      "1 cpu cpu\n",
      "2 no exception: no gpu in use\n"
     ]
    }
   ],
   "source": [
    "# this step only matters if you have a gpu.\n",
    "# this line of code is in my pytorch programs, it means\n",
    "# \"variable 'device' is first gpu if available, else cpu\".\n",
    "device = torch.device(\"cpu\" if not torch.cuda.is_available()\n",
    "                      else \"cuda:0\")\n",
    "print(torch.cuda.is_available())\n",
    "# that didn't put anything on gpu; we manually move things there\n",
    "ns = torch.arange(4)\n",
    "ns2 = ns.to(device)\n",
    "print(1, ns.device, ns2.device)\n",
    "\n",
    "try:\n",
    "    # python disallows operations mixing cpu and gpu;\n",
    "    # this is good, since moving data between them is expensive.\n",
    "    ns + ns2\n",
    "    print(2, \"no exception: no gpu in use\")\n",
    "except Exception as E:\n",
    "    print(3, f\"pytorch error: {E}\")"
   ]
  },
  {
   "cell_type": "markdown",
   "id": "quick-photographer",
   "metadata": {},
   "source": [
    "# matplotlib plotting"
   ]
  },
  {
   "cell_type": "code",
   "execution_count": 102,
   "id": "missing-strengthening",
   "metadata": {},
   "outputs": [],
   "source": [
    "import matplotlib.pyplot as plt"
   ]
  },
  {
   "cell_type": "code",
   "execution_count": 113,
   "id": "organized-boating",
   "metadata": {},
   "outputs": [
    {
     "data": {
      "text/plain": [
       "<matplotlib.legend.Legend at 0x7fdbc9370df0>"
      ]
     },
     "execution_count": 113,
     "metadata": {},
     "output_type": "execute_result"
    },
    {
     "data": {
      "image/png": "[encoded data removed]",
      "text/plain": [
       "<Figure size 432x288 with 1 Axes>"
      ]
     },
     "metadata": {
      "needs_background": "light"
     },
     "output_type": "display_data"
    }
   ],
   "source": [
    "# plt.plot() lets you display many curves.\n",
    "# it has many parameters; in jupyter and ipythong, you can execute\n",
    "# \"plt.plot?\" to see some of them.\n",
    "# note: gpu data must be moved to cpu before being passed to matplotlib\n",
    "xs = torch.linspace(0, 2, 128)\n",
    "plt.plot(xs, xs.log(), marker = '*', markevery = 5, label = \"DYF\")\n",
    "plt.plot(xs, xs, marker = 's', markevery = 5,\n",
    "         label = \"identity\")\n",
    "plt.plot(xs, xs ** 2, marker = 'D', markevery = 7,\n",
    "         label = 'squared')\n",
    "plt.plot(xs, xs * xs, marker = '^', markevery = 9,\n",
    "         label = 'squared again')\n",
    "plt.plot(xs, (2 * xs).sin(), marker = 'd', markevery = 11,\n",
    "         label = 'sin')\n",
    "plt.legend()"
   ]
  },
  {
   "cell_type": "code",
   "execution_count": 162,
   "id": "inside-shoot",
   "metadata": {},
   "outputs": [
    {
     "name": "stdout",
     "output_type": "stream",
     "text": [
      "tensor(3.0492) tensor([-0.8000,  0.4113])\n",
      "a tensor([-2.7118,  1.3942])\n"
     ]
    },
    {
     "data": {
      "text/plain": [
       "<matplotlib.legend.Legend at 0x7fdba81373d0>"
      ]
     },
     "execution_count": 162,
     "metadata": {},
     "output_type": "execute_result"
    },
    {
     "data": {
      "image/png": "[encoded data removed]",
      "text/plain": [
       "<Figure size 432x288 with 1 Axes>"
      ]
     },
     "metadata": {
      "needs_background": "light"
     },
     "output_type": "display_data"
    }
   ],
   "source": [
    "# We can put scatterplots and curve plots in the same figure.\n",
    "# if invoking this from a python script, you'd need to do \n",
    "# plt.clf()\n",
    "# to clear the figure after the previous one\n",
    "# (and also plt.savefig() or plt.show() to display).\n",
    "X = torch.randn(100, 2) # create some random data\n",
    "u = torch.randn(2) # sample a random \"correct\" linear predictor\n",
    "# pick a norm for u that has easy visualization:\n",
    "print(X.norm(dim=1).max(), u)\n",
    "u *= X.norm(dim = 1).max() / u.norm()\n",
    "print(\"a\", u)\n",
    "\n",
    "y = X @ u # label data according to the \"planted\" predictor\n",
    "# scatterplot of data, y given by color:\n",
    "plt.scatter(\n",
    "    X[:, 0],\n",
    "    X[:, 1],\n",
    "    # color according to y:\n",
    "    c = y,    \n",
    "    # c = (y - y.min()) / (y.max() - y.min()),\n",
    "    cmap = \"copper\",\n",
    ")\n",
    "# note that these plots are the weight vectors, not decision boundary\n",
    "plt.plot([0, u[0]], [0, u[1]], lw = 10, label = \"true solution\")\n",
    "ols = X.pinverse() @ y\n",
    "plt.plot([0, ols[0]], [0, ols[1]], lw = 4, label = \"ols\")\n",
    "plt.plot()\n",
    "plt.legend()"
   ]
  },
  {
   "cell_type": "code",
   "execution_count": 167,
   "id": "known-edmonton",
   "metadata": {},
   "outputs": [
    {
     "data": {
      "image/png": "[encoded data removed]",
      "text/plain": [
       "<Figure size 432x288 with 1 Axes>"
      ]
     },
     "metadata": {
      "needs_background": "light"
     },
     "output_type": "display_data"
    }
   ],
   "source": [
    "# matplotlib has many features; here's a cute one to restyle a plot:\n",
    "with plt.style.context(\"bmh\"):\n",
    "    plt.scatter(\n",
    "        X[:, 0],\n",
    "        X[:, 1],\n",
    "        # color according to y:\n",
    "        c = (y - y.min()) / (y.max() - y.min()),\n",
    "        cmap = \"copper\",\n",
    "    )"
   ]
  },
  {
   "cell_type": "markdown",
   "id": "jewish-canada",
   "metadata": {},
   "source": [
    "# autodifferentiation"
   ]
  },
  {
   "cell_type": "code",
   "execution_count": 168,
   "id": "worldwide-chart",
   "metadata": {},
   "outputs": [
    {
     "name": "stdout",
     "output_type": "stream",
     "text": [
      "torch.Size([100, 2]) torch.Size([2]) torch.Size([100])\n",
      "tensor([0., 0.])\n",
      "tensor([0., 0.], requires_grad=True)\n"
     ]
    }
   ],
   "source": [
    "# let's go back to the scatterplot from before:\n",
    "print(X.shape, u.shape, y.shape)\n",
    "# we'll find another with \"manual\" gradient descent\n",
    "v = torch.zeros(2)\n",
    "# another with automatic gradient computation\n",
    "w = torch.zeros(2, requires_grad = True)\n",
    "# another with automatic gradient computation\n",
    "# but also using torch.optim\n",
    "z = torch.zeros(2, requires_grad = True)\n",
    "# this \"requires_grad = True\" means\n",
    "# \"whenever this object appears in expressions, track how it is used,\n",
    "# so we can compute gradients later\"\n",
    "print(v)\n",
    "print(w)\n",
    "# hey matus, you know, no one understands your contour plot function\n"
   ]
  },
  {
   "cell_type": "code",
   "execution_count": 169,
   "id": "nervous-palestinian",
   "metadata": {},
   "outputs": [
    {
     "name": "stdout",
     "output_type": "stream",
     "text": [
      "1 False\n",
      "2 True\n",
      "3 False\n"
     ]
    }
   ],
   "source": [
    "# Can directly modify requires_grad\n",
    "q = torch.randn(5,5)\n",
    "print(1, q.requires_grad)\n",
    "q.requires_grad = True\n",
    "print(2, q.requires_grad)\n",
    "q.requires_grad_(False)\n",
    "print(3, q.requires_grad)"
   ]
  },
  {
   "cell_type": "code",
   "execution_count": 170,
   "id": "equal-girlfriend",
   "metadata": {},
   "outputs": [
    {
     "name": "stdout",
     "output_type": "stream",
     "text": [
      "1 tensor([-0.7448, -1.0985,  4.6895,  3.1548,  2.0440], grad_fn=<MvBackward0>)\n",
      "2 tensor([-1.6922,  1.5173,  0.0362,  1.0260, -0.4677])\n"
     ]
    }
   ],
   "source": [
    "print(1, torch.randn(5,5) @ torch.randn(5, requires_grad = True))\n",
    "print(2, torch.randn(5,5) @ torch.randn(5))"
   ]
  },
  {
   "cell_type": "code",
   "execution_count": 173,
   "id": "annual-intake",
   "metadata": {},
   "outputs": [
    {
     "name": "stdout",
     "output_type": "stream",
     "text": [
      "iter 0 risk 0.000816 0.000816 0.000816\n",
      "iter 1 risk 0.000661 0.000661 0.000661\n",
      "iter 2 risk 0.000536 0.000536 0.000536\n",
      "iter 3 risk 0.000435 0.000435 0.000435\n",
      "iter 4 risk 0.000352 0.000352 0.000352\n",
      "iter 5 risk 0.000286 0.000286 0.000286\n",
      "iter 6 risk 0.000232 0.000232 0.000232\n",
      "iter 7 risk 0.000188 0.000188 0.000188\n",
      "iter 8 risk 0.000153 0.000153 0.000153\n",
      "iter 9 risk 0.000124 0.000124 0.000124\n",
      "iter 10 risk 0.000101 0.000101 0.000101\n",
      "iter 11 risk 8.17e-05 8.17e-05 8.17e-05\n",
      "iter 12 risk 6.64e-05 6.64e-05 6.64e-05\n",
      "iter 13 risk 5.39e-05 5.39e-05 5.39e-05\n",
      "iter 14 risk 4.38e-05 4.38e-05 4.38e-05\n",
      "iter 15 risk 3.56e-05 3.56e-05 3.56e-05\n",
      "iter 16 risk 2.89e-05 2.89e-05 2.89e-05\n",
      "iter 17 risk 2.35e-05 2.35e-05 2.35e-05\n",
      "iter 18 risk 1.91e-05 1.91e-05 1.91e-05\n",
      "iter 19 risk 1.55e-05 1.55e-05 1.55e-05\n"
     ]
    },
    {
     "data": {
      "image/png": "[encoded data removed]",
      "text/plain": [
       "<Figure size 432x288 with 1 Axes>"
      ]
     },
     "metadata": {
      "needs_background": "light"
     },
     "output_type": "display_data"
    }
   ],
   "source": [
    "# now let's do some iterations of gradient descent on w and v\n",
    "stepsize = 0.1 # a small one to help visualize\n",
    "# we'll use pytorch's sgd for z:\n",
    "z_optimizer = torch.optim.SGD([z], lr = stepsize)\n",
    "# XXX note to future matus: gotcha about not modifying z directly\n",
    "n_iters = 20\n",
    "V = torch.empty(n_iters, 2)\n",
    "W = torch.empty(n_iters, 2)\n",
    "Z = torch.empty(n_iters, 2)\n",
    "for i in range(n_iters):\n",
    "    # let's save all iterates to plot them later\n",
    "    V[i, :] = v\n",
    "    # for w and z, if we copy them in like v, then\n",
    "    # W also gets requires_grad enabled.\n",
    "    # We can use .detach() to disconnect from the computation graph\n",
    "    W[i, :] = w.detach()\n",
    "    Z[i, :] = z.detach()\n",
    "\n",
    "    # manual gradient computation on v:\n",
    "    v_risk = ((X @ v - y) ** 2 / 2).mean()\n",
    "    # take a gradient step:\n",
    "    v -= stepsize * X.T @ (X @ v - y) / X.shape[0]\n",
    "    \n",
    "    # automatic gradient computation on w:\n",
    "    w_risk = ((X @ w - y) ** 2 / 2).mean()\n",
    "    # following line means\n",
    "    # \"go through the computation of 'w_risk',\n",
    "    # and save gradient information for \n",
    "    # tensors with all requires_grad=True\"\n",
    "    w_risk.backward()\n",
    "\n",
    "    # we still need _use_ the saved gradient information\n",
    "    \n",
    "\n",
    "    with torch.no_grad():\n",
    "        # we will do that inside a torch.no_grad() block.\n",
    "        # this  means \"here we do not track gradient computations\".\n",
    "        # this particular gradient computation blows up in various\n",
    "        # ways without the block.\n",
    "        # for v we were fine, there are no requires_grad variables.\n",
    "        w -= stepsize * w.grad\n",
    "        # w.grad is where gradient information was stored.\n",
    "        # we must explicitly clear it, or else it will be combined\n",
    "        # with future iteration gradient information\n",
    "        w.grad.zero_()\n",
    "        # the .zero_() means \"zero this out in place\".\n",
    "        #w = w - stepsize * w.grad\n",
    "        \n",
    "    # now let's do z\n",
    "    z_optimizer.zero_grad() # the optimizer handles this now\n",
    "    # rest is familiar from w:\n",
    "    z_risk = ((X @ z - y) ** 2 / 2).mean()\n",
    "    z_risk.backward()\n",
    "    # now do the update.  torch.no_grad() is unnecessary\n",
    "    # because .step() invokes it internally.\n",
    "    z_optimizer.step() # thanks, pytorch\n",
    "    \n",
    "    # lastly let's print the empirical risk of all\n",
    "    with torch.no_grad():\n",
    "        print(f\"iter {i}\"\n",
    "              f\" risk {v_risk:.3g} {w_risk:.3g} {z_risk:.3g}\")\n",
    "\n",
    "with plt.style.context(\"bmh\"):\n",
    "    plt.scatter(\n",
    "        X[:, 0],\n",
    "        X[:, 1],\n",
    "        # color according to y:\n",
    "        c = (y - y.min()) / (y.max() - y.min()),\n",
    "        cmap = \"copper\",\n",
    "    )\n",
    "    plt.plot([0, u[0]], [0, u[1]], lw = 25, label = \"true solution\")\n",
    "    plt.plot(V[:, 0], V[:, 1],\n",
    "             lw = 15, color = 'black',\n",
    "             label = \"manual GD\")\n",
    "    plt.plot(W[:, 0], W[:, 1],\n",
    "             lw = 10, color = 'white',\n",
    "             label = \"auto GD\")\n",
    "    plt.plot(Z[:, 0], Z[:, 1],\n",
    "             lw = 5, color = 'black',\n",
    "             label = \"torch.optim.SGD\")\n",
    "    plt.legend()    "
   ]
  },
  {
   "cell_type": "code",
   "execution_count": 174,
   "id": "severe-mixer",
   "metadata": {},
   "outputs": [
    {
     "data": {
      "text/plain": [
       "tensor(1.5536e-05, grad_fn=<MeanBackward0>)"
      ]
     },
     "execution_count": 174,
     "metadata": {},
     "output_type": "execute_result"
    }
   ],
   "source": [
    "# Let's take a moment to study the last w_risk\n",
    "w_risk"
   ]
  },
  {
   "cell_type": "code",
   "execution_count": 176,
   "id": "particular-initial",
   "metadata": {},
   "outputs": [
    {
     "data": {
      "text/plain": [
       "tensor(1.5536e-05)"
      ]
     },
     "execution_count": 176,
     "metadata": {},
     "output_type": "execute_result"
    }
   ],
   "source": [
    "# the \"grad_fn\" is also part of the computation tracking.\n",
    "# if we use .detach() here, similarly it clears this.\n",
    "w_risk.detach()"
   ]
  },
  {
   "cell_type": "code",
   "execution_count": 181,
   "id": "eed422a6",
   "metadata": {},
   "outputs": [
    {
     "name": "stdout",
     "output_type": "stream",
     "text": [
      "1 tensor(-0.6272) torch.Size([])\n",
      "2 -0.6271902918815613 tensor(-0.6272) tensor(-0.6272) -0.6271902918815613\n",
      "3 tensor([[[-0.6272]]])\n"
     ]
    }
   ],
   "source": [
    "w = torch.randn(())\n",
    "print(1, w, w.shape)\n",
    "print(2, w.item(), w.detach(), w.detach().clone(), w.item() )\n",
    "print(3, w.view(-1,1,1))"
   ]
  },
  {
   "cell_type": "code",
   "execution_count": 207,
   "id": "numeric-arcade",
   "metadata": {},
   "outputs": [
    {
     "name": "stdout",
     "output_type": "stream",
     "text": [
      "torch.Size([2])\n",
      "tensor([0.2936, 0.1617])\n",
      "tensor([0.2936, 0.1617], requires_grad=True)\n",
      "False True\n"
     ]
    }
   ],
   "source": [
    "# here's an example of what goes wrong within torch.no_grad.\n",
    "w2 = torch.randn(2, requires_grad = True)\n",
    "print(w2.shape)\n",
    "risk = ((X @ w2 - y) ** 2 / 2).mean()\n",
    "risk.backward()\n",
    "with torch.no_grad():\n",
    "    # WRONG WAY: assign to a temporary variable\n",
    "    w3 = w2 - stepsize * w2.grad\n",
    "    print(w3)\n",
    "    # RIGHT WAY: in place operations.\n",
    "    w2 -= stepsize * w2.grad\n",
    "    print(w2)\n",
    "    # same goes with other operations like torch.clamp(), etc.\n",
    "    # notice that one of the following changes\n",
    "    print(w3.requires_grad, w2.requires_grad)"
   ]
  },
  {
   "cell_type": "code",
   "execution_count": 208,
   "id": "derived-sewing",
   "metadata": {},
   "outputs": [
    {
     "name": "stdout",
     "output_type": "stream",
     "text": [
      "tensor(0., requires_grad=True)\n",
      "tensor(0.)\n"
     ]
    }
   ],
   "source": [
    "# note that \"autodifferentiation\" doesn't require differentiability.\n",
    "w = torch.zeros((), requires_grad = True) # scalar zero\n",
    "print(w)\n",
    "nondiff = torch.nn.functional.relu(w)\n",
    "nondiff.backward()\n",
    "# relu is not differentiable at zero...\n",
    "print(w.grad)\n",
    "# relu has clarke differential (and subdifferential) of [0,1] at 1.\n",
    "# so anything within [0,1] seems reasonable."
   ]
  },
  {
   "cell_type": "code",
   "execution_count": 215,
   "id": "magnetic-chaos",
   "metadata": {},
   "outputs": [
    {
     "name": "stdout",
     "output_type": "stream",
     "text": [
      "tensor(0)\n",
      "tensor(0., requires_grad=True)\n",
      "tensor(0.)\n"
     ]
    }
   ],
   "source": [
    "# good job, pytorch, how about this one.\n",
    "w.grad.zero_() # first zero out old gradient\n",
    "relu = torch.nn.functional.relu # shorthand\n",
    "print(relu(torch.tensor(-1)))\n",
    "print(w)\n",
    "tricky = relu(w) - relu(-w) # identity map\n",
    "tricky.backward()\n",
    "print(w.grad) # 1 is the only correct value"
   ]
  },
  {
   "cell_type": "markdown",
   "id": "mounted-island",
   "metadata": {},
   "source": [
    "# single-layer networks"
   ]
  },
  {
   "cell_type": "code",
   "execution_count": 219,
   "id": "listed-angle",
   "metadata": {},
   "outputs": [
    {
     "name": "stdout",
     "output_type": "stream",
     "text": [
      "tensor(0.9514, grad_fn=<NormBackward1>)\n"
     ]
    }
   ],
   "source": [
    "# a basic fully connected layer; randomly initialized\n",
    "fc1 = torch.nn.Linear(5,4, bias = True)\n",
    "# another one, different random init:\n",
    "fc2 = torch.nn.Linear(5,4, bias = True)\n",
    "\n",
    "# let's apply these layers to some data\n",
    "x = torch.randn(5)\n",
    "# you can call them like functions.  result nonzero due to random init.\n",
    "print((fc1(x) - fc2(x)).norm())"
   ]
  },
  {
   "cell_type": "code",
   "execution_count": 225,
   "id": "primary-recommendation",
   "metadata": {},
   "outputs": [
    {
     "name": "stdout",
     "output_type": "stream",
     "text": [
      "1 True\n",
      "2 tensor([-0.8801,  0.8221, -1.0856, -0.1317, -0.4591]) tensor([0.2786, 0.7801, 0.4324, 0.4789], grad_fn=<AddBackward0>) tensor([0.2786, 0.7801, 0.4324, 0.4789], grad_fn=<AddBackward0>)\n",
      "3 Linear(in_features=5, out_features=4, bias=True)\n"
     ]
    }
   ],
   "source": [
    "# A layer is itself a subclass of the general torch network class\n",
    "print(1, isinstance(fc1, torch.nn.Module))\n",
    "# this class contains main convenient operations.\n",
    "# here are two ways to apply them to data:\n",
    "print(2, x, (fc1(x)), (fc1.forward(x)))\n",
    "# note that .forward()'s name matches with .backward(),\n",
    "# corresponding to backpropagation.\n",
    "# here we see we can print networks, useful for debugging:\n",
    "print(3, fc1)"
   ]
  },
  {
   "cell_type": "code",
   "execution_count": 227,
   "id": "sorted-horizontal",
   "metadata": {},
   "outputs": [
    {
     "name": "stdout",
     "output_type": "stream",
     "text": [
      "torch.Size([4, 5])\n",
      "torch.Size([4])\n"
     ]
    }
   ],
   "source": [
    "# torch.nn.Module instances can iterate over parameters.\n",
    "# most often we use this to define gradient descent\n",
    "for P in fc1.parameters():\n",
    "    print(P.shape)"
   ]
  },
  {
   "cell_type": "code",
   "execution_count": 228,
   "id": "specialized-motorcycle",
   "metadata": {},
   "outputs": [
    {
     "name": "stdout",
     "output_type": "stream",
     "text": [
      "torch.Size([4, 5])\n"
     ]
    }
   ],
   "source": [
    "# what about with no bias?\n",
    "for P in torch.nn.Linear(5,4, bias = False).parameters():\n",
    "    print(P.shape)"
   ]
  },
  {
   "cell_type": "code",
   "execution_count": 229,
   "id": "basic-thought",
   "metadata": {},
   "outputs": [],
   "source": [
    "# this zeros out gradients.\n",
    "fc1.zero_grad()\n",
    "# it is like accessing the weights (and biases!) within fc1\n",
    "# and calling .zero_()."
   ]
  },
  {
   "cell_type": "code",
   "execution_count": 230,
   "id": "detected-medium",
   "metadata": {},
   "outputs": [
    {
     "name": "stdout",
     "output_type": "stream",
     "text": [
      "1 torch.Size([1])\n",
      "2 torch.Size([10, 1])\n",
      "3 torch.Size([5, 1])\n"
     ]
    }
   ],
   "source": [
    "fc = torch.nn.Linear(5, 1)\n",
    "# torch networks can take minibatches directly as input;\n",
    "# now the inputs are written as rows.\n",
    "X = torch.randn(10, 5)\n",
    "print(1, fc(X[0, :]).shape) # column vector in, singleton vector out\n",
    "print(2, fc(X).shape) # matrix in, _matrix_ out\n",
    "print(3, fc(X[:5, :]).shape) # now with a minibatch"
   ]
  },
  {
   "cell_type": "code",
   "execution_count": 239,
   "id": "brief-shipping",
   "metadata": {},
   "outputs": [
    {
     "name": "stdout",
     "output_type": "stream",
     "text": [
      "shuffle False 0 0\n",
      "shuffle False 1 1\n",
      "shuffle False 2 2\n",
      "shuffle False 3 3\n",
      "shuffle False 4 4\n",
      "shuffle False 5 5\n",
      "shuffle False 6 6\n",
      "shuffle False 7 7\n",
      "shuffle True 0 0\n",
      "shuffle True 1 0.25\n",
      "shuffle True 2 0.312\n",
      "shuffle True 3 0.0312\n",
      "shuffle True 4 0.375\n",
      "shuffle True 5 0.125\n",
      "shuffle True 6 0.219\n",
      "shuffle True 7 0.0625\n"
     ]
    }
   ],
   "source": [
    "# Typically pytorch code does not directly extract minibatches from\n",
    "# a big data tensor, but uses wrappers from torch.utils.data\n",
    "nb = 32\n",
    "n = 256\n",
    "# following wraps inputs and outputs into single object\n",
    "data = torch.utils.data.TensorDataset(\n",
    "    torch.arange(n).type(torch.float32), # our fake input data\n",
    "    # using sequential data to tell apart shuffle and not\n",
    "    torch.randint(0, 10, (n,)) # our labels\n",
    ")\n",
    "for shuffle in [ False, True ]:\n",
    "    # DataLoader handles minibatching\n",
    "    loader = torch.utils.data.DataLoader(data, batch_size = nb,\n",
    "                    shuffle = shuffle, num_workers = 1)\n",
    "    # loader exposes an iterable interface:\n",
    "    for (i, (Xb, yb)) in enumerate(loader):\n",
    "        print(f\"shuffle {shuffle} {i} {Xb.min() / nb:.3g}\")"
   ]
  },
  {
   "cell_type": "code",
   "execution_count": 240,
   "id": "vertical-pearl",
   "metadata": {},
   "outputs": [
    {
     "name": "stdout",
     "output_type": "stream",
     "text": [
      "torch.Size([10, 10])\n",
      "torch.Size([10])\n"
     ]
    }
   ],
   "source": [
    "# here's a gotcha!\n",
    "# for linear logistic regression, we did y * (X @ w).  now:\n",
    "y = torch.randn(X.shape[0])\n",
    "print((y * fc(X)).shape) # OOPS\n",
    "print((y * fc(X).view(-1)).shape) # correct..."
   ]
  },
  {
   "cell_type": "code",
   "execution_count": 241,
   "id": "advised-pasta",
   "metadata": {},
   "outputs": [
    {
     "data": {
      "text/plain": [
       "Linear(in_features=5, out_features=1, bias=True)"
      ]
     },
     "execution_count": 241,
     "metadata": {},
     "output_type": "execute_result"
    }
   ],
   "source": [
    "# We can also move entire networks to gpu with one function call\n",
    "# (in this case, it moves the weights and the biases).\n",
    "fc.to(device)"
   ]
  },
  {
   "cell_type": "code",
   "execution_count": 242,
   "id": "71959699",
   "metadata": {},
   "outputs": [
    {
     "data": {
      "text/plain": [
       "tensor([[ 0.3565, -0.2780, -0.1114,  0.2070,  0.6107],\n",
       "        [ 0.3952,  0.8698, -0.4732,  0.8989, -0.0087],\n",
       "        [ 0.5284,  0.6278, -0.5267,  0.2494,  0.9822]],\n",
       "       grad_fn=<AddmmBackward0>)"
      ]
     },
     "execution_count": 242,
     "metadata": {},
     "output_type": "execute_result"
    }
   ],
   "source": [
    "lin = torch.nn.Linear(4,5)\n",
    "lin(torch.randn(3,4))"
   ]
  },
  {
   "cell_type": "code",
   "execution_count": 243,
   "id": "coordinate-lender",
   "metadata": {},
   "outputs": [
    {
     "name": "stdout",
     "output_type": "stream",
     "text": [
      "1 torch.Size([1, 4, 5, 5])\n",
      "2 torch.Size([10, 4, 5, 5])\n",
      "3 torch.Size([4, 5, 5])\n",
      "5 torch.Size([10, 4, 9, 9])\n"
     ]
    }
   ],
   "source": [
    "# We can also create convolutional layers easily\n",
    "torch.nn.Conv2d(5, 4, 2)\n",
    "conv = torch.nn.Conv2d(5, 4, 2)\n",
    "# example random data with 10 6x6 images using 5 channels:\n",
    "X = torch.randn(10, 5, 6, 6)\n",
    "print(1, conv(X[:1, ...]).shape) #output on first example\n",
    "print(2, conv(X).shape) #output on whole batch\n",
    "try:\n",
    "    # unfortunately, unlike for linear layers,\n",
    "    # we _must_ use inputs with 4 axes of input\n",
    "    print(3, conv(X[0, ...]).shape)\n",
    "except Exception as E:\n",
    "    print(4, f\"Got exception: '{E}'\")\n",
    "# just a sanity check:\n",
    "# indeed convolutional layers, unlike linear layers,\n",
    "# can handle different choices of input width x height\n",
    "print(5, conv(torch.randn(10, 5, 10, 10)).shape)"
   ]
  },
  {
   "cell_type": "code",
   "execution_count": 45,
   "id": "egyptian-copper",
   "metadata": {},
   "outputs": [
    {
     "name": "stdout",
     "output_type": "stream",
     "text": [
      "torch.Size([4, 5, 2, 2])\n",
      "torch.Size([4])\n"
     ]
    }
   ],
   "source": [
    "# convolutional layers also have biases on by default!\n",
    "for P in conv.parameters():\n",
    "    print(P.shape)"
   ]
  },
  {
   "cell_type": "code",
   "execution_count": 46,
   "id": "streaming-firewall",
   "metadata": {},
   "outputs": [
    {
     "name": "stdout",
     "output_type": "stream",
     "text": [
      "1 ReLU()\n",
      "2 0\n",
      "3 tensor([0., 0., 0., 0., 1., 2., 3.])\n",
      "4 tensor([0., 0., 0., 0., 1., 2., 3.])\n",
      "5 tensor([0., 0., 0., 0., 1., 2., 3.])\n"
     ]
    }
   ],
   "source": [
    "# activations also subclass torch.nn.Module\n",
    "relu = torch.nn.ReLU()\n",
    "print(1, relu)\n",
    "print(2, len(list(relu.parameters())))\n",
    "v = torch.linspace(-3, 3, 7)\n",
    "print(3, relu(v))\n",
    "# many layer types can also be invoked \"functionally\",\n",
    "# without creating a layer object.\n",
    "print(4, torch.nn.functional.relu(v))\n",
    "# we can also call relu directly on tensors.\n",
    "print(5, v.relu())"
   ]
  },
  {
   "cell_type": "code",
   "execution_count": 47,
   "id": "radio-folks",
   "metadata": {},
   "outputs": [
    {
     "name": "stdout",
     "output_type": "stream",
     "text": [
      "1 tensor([0.3339, 0.4058, 0.1528, 0.1075])\n",
      "2 tensor([0.3339, 0.4058, 0.1528, 0.1075])\n",
      "3 tensor([0.3339, 0.4058, 0.1528, 0.1075])\n",
      "4 tensor([0.3339, 0.4058, 0.1528, 0.1075])\n"
     ]
    }
   ],
   "source": [
    "# We also have softmax layers...\n",
    "v = torch.randn(4)\n",
    "softmax = torch.nn.Softmax(dim = 0)\n",
    "print(1, softmax(v))\n",
    "print(2, torch.nn.functional.softmax(v, dim = 0))\n",
    "print(3, v.softmax(dim = 0))\n",
    "# let's sanity check \n",
    "print(4, v.exp() / v.exp().sum())"
   ]
  },
  {
   "cell_type": "code",
   "execution_count": 48,
   "id": "sufficient-caution",
   "metadata": {},
   "outputs": [
    {
     "name": "stdout",
     "output_type": "stream",
     "text": [
      "1 tensor(0.9020)\n",
      "2 tensor(0.9020)\n"
     ]
    }
   ],
   "source": [
    "# Let's further sanity check softmax with cross entropy\n",
    "yhat = v.view(1, -1)\n",
    "y = torch.ones(1,).type(torch.long)\n",
    "print(1, torch.nn.functional.cross_entropy(yhat, y))\n",
    "# It also exists as a layer!\n",
    "risk = torch.nn.CrossEntropyLoss()\n",
    "assert(len(list(risk.parameters())) == 0)\n",
    "print(2, risk(yhat, y))\n",
    "# variable name \"risk\" because averages batches:\n",
    "yhat = torch.randn(10, 5)\n",
    "y = torch.randint(0, yhat.shape[1], (yhat.shape[0],))\n",
    "risk1 = risk(yhat, y)\n",
    "assert(len(risk1.shape) == 0)\n",
    "# lastly let's check the computation manually.\n",
    "# pytorch has .logsumexp() for numerical reasons;\n",
    "# following slicing has a tiny gotcha, can't use : in place of range.\n",
    "risk2 = (- yhat[torch.arange(10), y] + yhat.logsumexp(dim = 1)).mean()\n",
    "# another way\n",
    "risk3 = -yhat.softmax(dim = 1)[torch.arange(10), y].log().mean()\n",
    "assert((risk2 - risk1).abs().item() < 1e-6 and\n",
    "      (risk3 - risk2).abs().item() < 1e-6)"
   ]
  },
  {
   "cell_type": "code",
   "execution_count": 49,
   "id": "bibliographic-median",
   "metadata": {},
   "outputs": [
    {
     "data": {
      "text/plain": [
       "<matplotlib.legend.Legend at 0x7fb4de84d1f0>"
      ]
     },
     "execution_count": 49,
     "metadata": {},
     "output_type": "execute_result"
    },
    {
     "data": {
      "image/png": "[encoded data removed]",
      "text/plain": [
       "<Figure size 432x288 with 1 Axes>"
      ]
     },
     "metadata": {
      "needs_background": "light"
     },
     "output_type": "display_data"
    }
   ],
   "source": [
    "# Lastly, let's study batch norm a little bit.\n",
    "# Let's play with the .train() and eval() routines,\n",
    "# and also see if we can observe the normalization.\n",
    "d = 2\n",
    "bn = torch.nn.BatchNorm1d(d)\n",
    "bn.eval() # disable tracking of statistics\n",
    "# Gaussian data, axis aligned, different variances.\n",
    "X = torch.randn(1024, d) @ torch.tensor([[4.0, 0,], [0, 2]])\n",
    "n_iters = 1024\n",
    "stddevs = torch.empty(n_iters, d)\n",
    "import random\n",
    "for iters in range(n_iters):\n",
    "    x_mb = X[random.sample(range(X.shape[0]), 16), :]\n",
    "    out = bn(x_mb)\n",
    "    with torch.no_grad():\n",
    "        if iters == n_iters // 3:\n",
    "            bn.train()\n",
    "        elif iters == 2 * n_iters // 3:\n",
    "            bn.eval()\n",
    "        stddevs[iters, :] = out.std(dim = 0)\n",
    "with plt.style.context('bmh'):\n",
    "    for j in range(d):\n",
    "        plt.plot(range(n_iters), stddevs[:, j],\n",
    "                 label = f\"coordinate {j}\")\n",
    "plt.legend()"
   ]
  },
  {
   "cell_type": "code",
   "execution_count": 50,
   "id": "daily-nirvana",
   "metadata": {},
   "outputs": [
    {
     "name": "stdout",
     "output_type": "stream",
     "text": [
      "tensor([1., 1.])\n",
      "tensor([0., 0.])\n"
     ]
    }
   ],
   "source": [
    "# note that batch norm has those \"affine\" parameters by default.\n",
    "# we did not do any updates do them, so they're still default.\n",
    "for P in bn.parameters():\n",
    "    print(P.data)"
   ]
  },
  {
   "cell_type": "markdown",
   "id": "emotional-confidentiality",
   "metadata": {},
   "source": [
    "# multi-layer networks"
   ]
  },
  {
   "cell_type": "code",
   "execution_count": 51,
   "id": "preliminary-final",
   "metadata": {},
   "outputs": [
    {
     "name": "stdout",
     "output_type": "stream",
     "text": [
      "[1]\n"
     ]
    }
   ],
   "source": [
    "# now let's work with multi-layer networks.\n",
    "# for networks that just stack standard types of layers,\n",
    "# here is an easy way:\n",
    "net = torch.nn.Sequential(\n",
    "    torch.nn.Linear(5,100),\n",
    "    torch.nn.ReLU(), \n",
    "   # torch.nn.Linear(100,1)\n",
    ")\n",
    "# note that \"number layers\" is already ambiguous and inconsistent\n",
    "# across neural net conventions...\n",
    "\n",
    "# we still have .forward(), function call, .zero_grad(), \n",
    "#net(x)\n",
    "net(torch.randn(5))\n",
    "print([1,])"
   ]
  },
  {
   "cell_type": "code",
   "execution_count": 52,
   "id": "aerial-perry",
   "metadata": {},
   "outputs": [
    {
     "name": "stdout",
     "output_type": "stream",
     "text": [
      "Sequential(\n",
      "  (0): Linear(in_features=5, out_features=100, bias=True)\n",
      "  (1): ReLU()\n",
      ")\n"
     ]
    }
   ],
   "source": [
    "print(net) # compare this with printing just torch.nn.Linear"
   ]
  },
  {
   "cell_type": "code",
   "execution_count": 53,
   "id": "typical-brush",
   "metadata": {},
   "outputs": [
    {
     "name": "stdout",
     "output_type": "stream",
     "text": [
      "0.weight torch.Size([100, 5])\n",
      "0.bias torch.Size([100])\n"
     ]
    }
   ],
   "source": [
    "# since now we have multiple layers,\n",
    "# .parameters() may be confusing for debugging purposes\n",
    "# since each layer can have multiple parameters (e.g., due to bias).\n",
    "# instead, we can use .named_parameters().\n",
    "# here we can see the default names:\n",
    "for (Pname, P) in net.named_parameters():\n",
    "    print(Pname, P.shape)"
   ]
  },
  {
   "cell_type": "code",
   "execution_count": 54,
   "id": "structured-fighter",
   "metadata": {},
   "outputs": [
    {
     "data": {
      "text/plain": [
       "torch.Size([50, 1])"
      ]
     },
     "execution_count": 54,
     "metadata": {},
     "output_type": "execute_result"
    }
   ],
   "source": [
    "# also convenient to define networks as classes.\n",
    "class SquaredReLUNet(torch.nn.Module):\n",
    "    def __init__(self, d, width):\n",
    "        super(SquaredReLUNet, self).__init__() # boilerplate\n",
    "        self.d = d\n",
    "        self.width = width\n",
    "        self.fc1 = torch.nn.Linear(d, width, bias = False)\n",
    "        self.relu = torch.nn.ReLU()\n",
    "        self.fc2 = torch.nn.Linear(width, 1, bias = False)\n",
    "        # torch.nn.Module \"sees\" fc1 and fc2 and they are\n",
    "        # accessed by operations like zero_grad(), parameters(), etc.\n",
    "        # for more exotic architectures, you need to\n",
    "        # manually register with self.add_module().\n",
    "        \n",
    "    def forward(self, x):\n",
    "        x = self.fc1(x)\n",
    "        # squared ReLU; more convenient than with torch.nn.Sequential\n",
    "        x = self.relu(x) ** 2\n",
    "        return self.fc2(x)\n",
    "    \n",
    "net = SquaredReLUNet(5, 128)\n",
    "net(torch.randn(50, 5)).shape"
   ]
  },
  {
   "cell_type": "code",
   "execution_count": 55,
   "id": "complex-triumph",
   "metadata": {
    "scrolled": true
   },
   "outputs": [
    {
     "name": "stdout",
     "output_type": "stream",
     "text": [
      "0 torch.Size([128, 5]) torch.Size([128, 5])\n",
      "1 torch.Size([1, 128]) torch.Size([1, 128])\n",
      "risk should decrease: init 0.547, one iter 0.54\n"
     ]
    }
   ],
   "source": [
    "net.zero_grad() # let's clear all gradient information.\n",
    "(X, y) = (torch.randn(50, 5), torch.randn(50))\n",
    "risk = ((net(X).view(-1) - y) ** 2).mean() / 2 # note \".view(-1)\"\n",
    "risk.backward()\n",
    "with torch.no_grad():\n",
    "     # they all get magically registered in the __init__\n",
    "    for (Pi, P) in enumerate(net.parameters()):\n",
    "        print(Pi, P.shape, P.grad.shape)\n",
    "        P -= 0.01 * P.grad # in place operations !\n",
    "    \n",
    "    # it is possible that it doesn't decrease,\n",
    "    # since the step size is fixed but the random data could be wild...\n",
    "    print(f\"risk should decrease: init {risk:.3g}, \"\n",
    "           f\"one iter {(((net(X).view(-1) - y) ** 2).mean() / 2):.3g}\")"
   ]
  },
  {
   "cell_type": "markdown",
   "id": "0b1a1742",
   "metadata": {},
   "source": [
    "# Digit experiment"
   ]
  },
  {
   "cell_type": "code",
   "execution_count": 245,
   "id": "b95bff50",
   "metadata": {},
   "outputs": [
    {
     "name": "stdout",
     "output_type": "stream",
     "text": [
      "torch.Size([1797, 64]) torch.Size([10]) tensor(16.) tensor(0.)\n"
     ]
    },
    {
     "data": {
      "image/png": "[encoded data removed]",
      "text/plain": [
       "<Figure size 432x288 with 2 Axes>"
      ]
     },
     "metadata": {
      "needs_background": "light"
     },
     "output_type": "display_data"
    },
    {
     "data": {
      "image/png": "[encoded data removed]",
      "text/plain": [
       "<Figure size 432x288 with 2 Axes>"
      ]
     },
     "metadata": {
      "needs_background": "light"
     },
     "output_type": "display_data"
    },
    {
     "data": {
      "image/png": "[encoded data removed]",
      "text/plain": [
       "<Figure size 432x288 with 2 Axes>"
      ]
     },
     "metadata": {
      "needs_background": "light"
     },
     "output_type": "display_data"
    },
    {
     "data": {
      "image/png": "[encoded data removed]",
      "text/plain": [
       "<Figure size 432x288 with 2 Axes>"
      ]
     },
     "metadata": {
      "needs_background": "light"
     },
     "output_type": "display_data"
    },
    {
     "data": {
      "image/png": "[encoded data removed]",
      "text/plain": [
       "<Figure size 432x288 with 2 Axes>"
      ]
     },
     "metadata": {
      "needs_background": "light"
     },
     "output_type": "display_data"
    }
   ],
   "source": [
    "import sklearn.datasets\n",
    "sk_digits = sklearn.datasets.load_digits()\n",
    "(X, Y) = (torch.tensor(sk_digits.data).type(torch.float), torch.tensor(sk_digits.target))\n",
    "print(X.shape, y.shape, X.max(), X.min())\n",
    "X /= X.max()\n",
    "for i in range(5):\n",
    "    plt.figure(1 + i)\n",
    "    ax = plt.imshow(X[i, ...].view(-1, 8))\n",
    "    plt.colorbar(ax)\n",
    "    plt.title(f\"number {i}, should be a {Y[i]}\")"
   ]
  },
  {
   "cell_type": "code",
   "execution_count": 248,
   "id": "cff2fe8b",
   "metadata": {},
   "outputs": [],
   "source": [
    "import random\n",
    "n = X.shape[0]\n",
    "perm = list(range(n))\n",
    "random.shuffle(perm)\n",
    "(X, Y) = ({'tr': X[perm[:n//2], ...], 'te': X[perm[n//2:], ...]}, {'tr':Y[perm[:n//2]], 'te':Y[perm[n//2:]]})"
   ]
  },
  {
   "cell_type": "code",
   "execution_count": 249,
   "id": "11244020",
   "metadata": {},
   "outputs": [
    {
     "data": {
      "text/plain": [
       "<matplotlib.image.AxesImage at 0x7fdbb0a8b370>"
      ]
     },
     "execution_count": 249,
     "metadata": {},
     "output_type": "execute_result"
    },
    {
     "data": {
      "image/png": "[encoded data removed]",
      "text/plain": [
       "<Figure size 432x288 with 1 Axes>"
      ]
     },
     "metadata": {
      "needs_background": "light"
     },
     "output_type": "display_data"
    }
   ],
   "source": [
    "plt.imshow(X['tr'][0, ...].view(-1,8))"
   ]
  },
  {
   "cell_type": "code",
   "execution_count": 250,
   "id": "d33a6cc7",
   "metadata": {},
   "outputs": [
    {
     "name": "stdout",
     "output_type": "stream",
     "text": [
      "49 1.886 1.879\n",
      "99 1.150 1.122\n",
      "149 0.634 0.663\n",
      "199 0.500 0.466\n",
      "249 0.317 0.369\n",
      "299 0.203 0.312\n",
      "349 0.211 0.277\n",
      "399 0.209 0.246\n",
      "449 0.131 0.228\n",
      "499 0.136 0.219\n",
      "549 0.194 0.203\n",
      "599 0.142 0.201\n",
      "649 0.109 0.186\n",
      "699 0.127 0.179\n",
      "749 0.155 0.174\n",
      "799 0.147 0.173\n",
      "849 0.102 0.164\n",
      "899 0.156 0.163\n",
      "949 0.089 0.159\n",
      "999 0.073 0.155\n",
      "1049 0.090 0.154\n",
      "1099 0.074 0.151\n",
      "1149 0.083 0.147\n",
      "1199 0.037 0.145\n",
      "1249 0.071 0.147\n",
      "1299 0.067 0.143\n",
      "1349 0.037 0.139\n",
      "1399 0.094 0.140\n",
      "1449 0.053 0.136\n",
      "1499 0.071 0.137\n",
      "1549 0.057 0.136\n",
      "1599 0.042 0.133\n",
      "1649 0.040 0.133\n",
      "1699 0.056 0.130\n",
      "1749 0.073 0.128\n",
      "1799 0.072 0.129\n",
      "1849 0.047 0.126\n",
      "1899 0.071 0.127\n",
      "1949 0.042 0.126\n",
      "1999 0.050 0.125\n",
      "2049 0.064 0.125\n",
      "2099 0.052 0.125\n",
      "2149 0.031 0.124\n",
      "2199 0.072 0.123\n",
      "2249 0.033 0.123\n",
      "2299 0.039 0.123\n",
      "2349 0.026 0.121\n",
      "2399 0.037 0.122\n",
      "2449 0.042 0.121\n",
      "2499 0.019 0.122\n",
      "2549 0.040 0.122\n",
      "2599 0.027 0.120\n",
      "2649 0.036 0.120\n",
      "2699 0.043 0.120\n",
      "2749 0.045 0.117\n",
      "2799 0.027 0.116\n",
      "2849 0.037 0.118\n",
      "2899 0.042 0.118\n",
      "2949 0.023 0.116\n",
      "2999 0.037 0.118\n",
      "3049 0.043 0.117\n",
      "3099 0.050 0.117\n",
      "3149 0.040 0.118\n",
      "3199 0.034 0.115\n",
      "3249 0.017 0.116\n",
      "3299 0.030 0.114\n",
      "3349 0.017 0.114\n",
      "3399 0.022 0.115\n",
      "3449 0.017 0.113\n",
      "3499 0.018 0.114\n",
      "3549 0.020 0.116\n",
      "3599 0.026 0.115\n",
      "3649 0.014 0.117\n",
      "3699 0.021 0.113\n",
      "3749 0.021 0.116\n",
      "3799 0.016 0.114\n",
      "3849 0.026 0.114\n",
      "3899 0.018 0.115\n",
      "3949 0.024 0.115\n",
      "3999 0.021 0.114\n",
      "49 0.335 0.399\n",
      "99 0.186 0.262\n",
      "149 0.148 0.203\n",
      "199 0.071 0.186\n",
      "249 0.178 0.177\n",
      "299 0.090 0.158\n",
      "349 0.084 0.151\n",
      "399 0.104 0.142\n",
      "449 0.050 0.136\n",
      "499 0.066 0.128\n",
      "549 0.060 0.129\n",
      "599 0.045 0.126\n",
      "649 0.052 0.129\n",
      "699 0.053 0.122\n",
      "749 0.042 0.119\n",
      "799 0.047 0.118\n",
      "849 0.029 0.118\n",
      "899 0.039 0.114\n",
      "949 0.045 0.114\n",
      "999 0.032 0.113\n",
      "1049 0.047 0.114\n",
      "1099 0.040 0.117\n",
      "1149 0.020 0.111\n",
      "1199 0.026 0.110\n",
      "1249 0.024 0.123\n",
      "1299 0.027 0.112\n",
      "1349 0.023 0.111\n",
      "1399 0.014 0.108\n",
      "1449 0.011 0.111\n",
      "1499 0.024 0.109\n",
      "1549 0.040 0.110\n",
      "1599 0.017 0.108\n",
      "1649 0.017 0.107\n",
      "1699 0.016 0.109\n",
      "1749 0.015 0.107\n",
      "1799 0.021 0.109\n",
      "1849 0.016 0.107\n",
      "1899 0.021 0.110\n",
      "1949 0.018 0.111\n",
      "1999 0.010 0.109\n",
      "2049 0.012 0.111\n",
      "2099 0.011 0.109\n",
      "2149 0.016 0.109\n",
      "2199 0.017 0.111\n",
      "2249 0.014 0.110\n",
      "2299 0.011 0.114\n",
      "2349 0.012 0.110\n",
      "2399 0.009 0.112\n",
      "2449 0.012 0.108\n",
      "2499 0.009 0.108\n",
      "2549 0.010 0.109\n",
      "2599 0.008 0.111\n",
      "2649 0.014 0.111\n",
      "2699 0.011 0.108\n",
      "2749 0.008 0.108\n",
      "2799 0.010 0.109\n",
      "2849 0.007 0.108\n",
      "2899 0.008 0.110\n",
      "2949 0.009 0.111\n",
      "2999 0.008 0.109\n",
      "3049 0.007 0.111\n",
      "3099 0.009 0.109\n",
      "3149 0.006 0.110\n",
      "3199 0.009 0.110\n",
      "3249 0.007 0.110\n",
      "3299 0.006 0.111\n",
      "3349 0.008 0.113\n",
      "3399 0.013 0.110\n",
      "3449 0.009 0.111\n",
      "3499 0.008 0.111\n",
      "3549 0.004 0.112\n",
      "3599 0.006 0.111\n",
      "3649 0.006 0.111\n",
      "3699 0.005 0.112\n",
      "3749 0.005 0.112\n",
      "3799 0.005 0.111\n",
      "3849 0.006 0.112\n",
      "3899 0.007 0.113\n",
      "3949 0.006 0.112\n",
      "3999 0.007 0.113\n"
     ]
    },
    {
     "name": "stderr",
     "output_type": "stream",
     "text": [
      "<ipython-input-250-6c0358fd23d2>:63: RuntimeWarning: More than 20 figures have been opened. Figures created through the pyplot interface (`matplotlib.pyplot.figure`) are retained until explicitly closed and may consume too much memory. (To control this warning, see the rcParam `figure.max_open_warning`).\n",
      "  plt.figure(2 + 10 * net_i + 2 * j + 1)\n"
     ]
    },
    {
     "data": {
      "image/png": "[encoded data removed]",
      "text/plain": [
       "<Figure size 432x288 with 1 Axes>"
      ]
     },
     "metadata": {
      "needs_background": "light"
     },
     "output_type": "display_data"
    },
    {
     "data": {
      "image/png": "[encoded data removed]",
      "text/plain": [
       "<Figure size 432x288 with 1 Axes>"
      ]
     },
     "metadata": {
      "needs_background": "light"
     },
     "output_type": "display_data"
    },
    {
     "data": {
      "image/png": "[encoded data removed]",
      "text/plain": [
       "<Figure size 432x288 with 1 Axes>"
      ]
     },
     "metadata": {
      "needs_background": "light"
     },
     "output_type": "display_data"
    },
    {
     "data": {
      "image/png": "[encoded data removed]",
      "text/plain": [
       "<Figure size 432x288 with 1 Axes>"
      ]
     },
     "metadata": {
      "needs_background": "light"
     },
     "output_type": "display_data"
    },
    {
     "data": {
      "image/png": "[encoded data removed]",
      "text/plain": [
       "<Figure size 432x288 with 1 Axes>"
      ]
     },
     "metadata": {
      "needs_background": "light"
     },
     "output_type": "display_data"
    },
    {
     "data": {
      "image/png": "[encoded data removed]",
      "text/plain": [
       "<Figure size 432x288 with 1 Axes>"
      ]
     },
     "metadata": {
      "needs_background": "light"
     },
     "output_type": "display_data"
    },
    {
     "data": {
      "image/png": "[encoded data removed]",
      "text/plain": [
       "<Figure size 432x288 with 1 Axes>"
      ]
     },
     "metadata": {
      "needs_background": "light"
     },
     "output_type": "display_data"
    },
    {
     "data": {
      "image/png": "[encoded data removed]",
      "text/plain": [
       "<Figure size 432x288 with 1 Axes>"
      ]
     },
     "metadata": {
      "needs_background": "light"
     },
     "output_type": "display_data"
    },
    {
     "data": {
      "image/png": "[encoded data removed]",
      "text/plain": [
       "<Figure size 432x288 with 1 Axes>"
      ]
     },
     "metadata": {
      "needs_background": "light"
     },
     "output_type": "display_data"
    },
    {
     "data": {
      "image/png": "[encoded data removed]",
      "text/plain": [
       "<Figure size 432x288 with 1 Axes>"
      ]
     },
     "metadata": {
      "needs_background": "light"
     },
     "output_type": "display_data"
    },
    {
     "data": {
      "image/png": "[encoded data removed]",
      "text/plain": [
       "<Figure size 432x288 with 1 Axes>"
      ]
     },
     "metadata": {
      "needs_background": "light"
     },
     "output_type": "display_data"
    },
    {
     "data": {
      "image/png": "[encoded data removed]",
      "text/plain": [
       "<Figure size 432x288 with 1 Axes>"
      ]
     },
     "metadata": {
      "needs_background": "light"
     },
     "output_type": "display_data"
    },
    {
     "data": {
      "image/png": "[encoded data removed]",
      "text/plain": [
       "<Figure size 432x288 with 1 Axes>"
      ]
     },
     "metadata": {
      "needs_background": "light"
     },
     "output_type": "display_data"
    },
    {
     "data": {
      "image/png": "[encoded data removed]",
      "text/plain": [
       "<Figure size 432x288 with 1 Axes>"
      ]
     },
     "metadata": {
      "needs_background": "light"
     },
     "output_type": "display_data"
    },
    {
     "data": {
      "image/png": "[encoded data removed]",
      "text/plain": [
       "<Figure size 432x288 with 1 Axes>"
      ]
     },
     "metadata": {
      "needs_background": "light"
     },
     "output_type": "display_data"
    },
    {
     "data": {
      "image/png": "[encoded data removed]",
      "text/plain": [
       "<Figure size 432x288 with 1 Axes>"
      ]
     },
     "metadata": {
      "needs_background": "light"
     },
     "output_type": "display_data"
    },
    {
     "data": {
      "image/png": "[encoded data removed]",
      "text/plain": [
       "<Figure size 432x288 with 1 Axes>"
      ]
     },
     "metadata": {
      "needs_background": "light"
     },
     "output_type": "display_data"
    },
    {
     "data": {
      "image/png": "[encoded data removed]",
      "text/plain": [
       "<Figure size 432x288 with 1 Axes>"
      ]
     },
     "metadata": {
      "needs_background": "light"
     },
     "output_type": "display_data"
    },
    {
     "data": {
      "image/png": "[encoded data removed]",
      "text/plain": [
       "<Figure size 432x288 with 1 Axes>"
      ]
     },
     "metadata": {
      "needs_background": "light"
     },
     "output_type": "display_data"
    },
    {
     "data": {
      "image/png": "[encoded data removed]",
      "text/plain": [
       "<Figure size 432x288 with 1 Axes>"
      ]
     },
     "metadata": {
      "needs_background": "light"
     },
     "output_type": "display_data"
    },
    {
     "data": {
      "image/png": "[encoded data removed]",
      "text/plain": [
       "<Figure size 432x288 with 1 Axes>"
      ]
     },
     "metadata": {
      "needs_background": "light"
     },
     "output_type": "display_data"
    }
   ],
   "source": [
    "width = 64\n",
    "mb_sz = 128\n",
    "\n",
    "net1 = torch.nn.Sequential(\n",
    "    torch.nn.Linear(X['tr'].shape[1], width),\n",
    "    torch.nn.ReLU(),\n",
    "    torch.nn.Linear(width, len(sk_digits.target_names)),\n",
    ")\n",
    "\n",
    "class Net2(torch.nn.Module):\n",
    "    def __init__(self, width):\n",
    "        super(Net2, self).__init__() # boilerplate\n",
    "        self.conv = torch.nn.Conv2d(1, width, kernel_size = 3)\n",
    "        self.relu = torch.nn.ReLU()\n",
    "        self.fc = torch.nn.Linear(6 * 6 * width, 10)\n",
    "        \n",
    "    def forward(self, x):\n",
    "        x = x.view(x.shape[0], 1, 8, 8)\n",
    "        x = self.conv(x)\n",
    "        x = self.relu(x)\n",
    "        x = x.view(x.shape[0], -1)\n",
    "        return self.fc(x)\n",
    "net2 = Net2(width)\n",
    "    \n",
    "for (net_i, (net_s, net, stepsize)) in enumerate([\n",
    "    ('dense', net1, 0.1), \n",
    "    ('conv',  net2, 0.1),\n",
    "]):\n",
    "    losses = { 'tr' : [], 'te' : [] }\n",
    "    for i in range(4000):\n",
    "        net.zero_grad()\n",
    "        idxs = random.sample(range(X['tr'].shape[0]), mb_sz)\n",
    "        (x, y) = (X['tr'][idxs, ...], Y['tr'][idxs])\n",
    "        yhat = net(x)\n",
    "        # bakes in \".mean()\":\n",
    "        loss = torch.nn.CrossEntropyLoss()(yhat, y)\n",
    "        loss.backward()\n",
    "        with torch.no_grad():\n",
    "            if (i + 1) % 50 == 0: \n",
    "                yhat2 = net(X['te'])\n",
    "                loss2 = torch.nn.CrossEntropyLoss()(yhat2, Y['te'])\n",
    "                print(f\"{i} {loss:.3f} {loss2:.3f}\")\n",
    "                losses['tr'].append(loss.detach())\n",
    "                losses['te'].append(loss2.detach())\n",
    "\n",
    "            for P in net.parameters():\n",
    "                P -= stepsize * P.grad\n",
    "    for s in ['tr', 'te']:\n",
    "        plt.figure(1)\n",
    "        plt.plot(range(len(losses[s])), losses[s],\n",
    "                 label = f\"{net_s} {s}\")\n",
    "\n",
    "    with torch.no_grad():\n",
    "        yhat2 = net(X['te'])\n",
    "        loss2 = torch.nn.CrossEntropyLoss(reduction = 'none')(yhat2, Y['te'])\n",
    "        loss2_sort = loss2.sort()\n",
    "        for j in range(5):\n",
    "            plt.figure(2 + 10 * net_i + 2 * j)\n",
    "            idx = loss2_sort.indices[j]\n",
    "            yhat2_single = yhat2[idx, ...].argmax().item()\n",
    "            plt.imshow(X['te'][idx, ...].view(8,8))\n",
    "            plt.title(f\"{j}th least confusing te for {net_s}, yhat {yhat2_single} y {Y['te'][idx]}\")\n",
    "            plt.figure(2 + 10 * net_i + 2 * j + 1)\n",
    "            idx = loss2_sort.indices[-1-j]\n",
    "            yhat2_single = yhat2[idx, ...].argmax().item()\n",
    "            plt.imshow(X['te'][idx, ...].view(8,8))\n",
    "            plt.title(f\"{j}th most confusing te for {net_s}, yhat {yhat2_single} y {Y['te'][idx]}\")\n",
    "\n",
    "plt.figure(1)\n",
    "plt.title(\"risk curves\")\n",
    "plt.legend()\n",
    "plt.show()"
   ]
  },
  {
   "cell_type": "code",
   "execution_count": 251,
   "id": "2516d7c2",
   "metadata": {},
   "outputs": [
    {
     "name": "stdout",
     "output_type": "stream",
     "text": [
      "torch.Size([64, 1, 3, 3])\n",
      "torch.Size([64])\n",
      "torch.Size([10, 2304])\n",
      "torch.Size([10])\n"
     ]
    }
   ],
   "source": [
    "for P in net2.parameters():\n",
    "    print(P.shape)"
   ]
  }
 ],
 "metadata": {
  "kernelspec": {
   "display_name": "base",
   "language": "python",
   "name": "python3"
  },
  "language_info": {
   "codemirror_mode": {
    "name": "ipython",
    "version": 3
   },
   "file_extension": ".py",
   "mimetype": "text/x-python",
   "name": "python",
   "nbconvert_exporter": "python",
   "pygments_lexer": "ipython3",
   "version": "3.8.8"
  },
  "vscode": {
   "interpreter": {
    "hash": "40d3a090f54c6569ab1632332b64b2c03c39dcf918b08424e98f38b5ae0af88f"
   }
  }
 },
 "nbformat": 4,
 "nbformat_minor": 5
}
